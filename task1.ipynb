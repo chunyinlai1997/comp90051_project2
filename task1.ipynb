{
 "cells": [
  {
   "cell_type": "code",
   "execution_count": 45,
   "metadata": {},
   "outputs": [],
   "source": [
    "import csv\n",
    "import pandas as pd\n",
    "import numpy as np\n",
    "from sklearn.linear_model import LinearRegression\n",
    "from sklearn.neural_network import MLPClassifier\n",
    "from sklearn import metrics\n",
    "from sklearn.metrics import classification_report\n",
    "from sklearn.preprocessing import scale, normalize\n",
    "from sklearn.model_selection import GridSearchCV"
   ]
  },
  {
   "cell_type": "code",
   "execution_count": 46,
   "metadata": {},
   "outputs": [],
   "source": [
    "male = pd.read_csv(\"MALE.csv\", header=0, index_col=None)\n",
    "female = pd.read_csv(\"FEMALE.csv\", header=0, index_col=None)\n",
    "mix = pd.read_csv(\"MIXED.csv\", header=0, index_col=None)"
   ]
  },
  {
   "cell_type": "code",
   "execution_count": 47,
   "metadata": {},
   "outputs": [],
   "source": [
    "def split_data(df):\n",
    "    test_data = df.sample(n=100, random_state=0)\n",
    "    df = df.drop(test_data.index)\n",
    "    develop_data = df.sample(n=100, random_state=0)\n",
    "    train_data = df.drop(develop_data.index)\n",
    "    return train_data, develop_data, test_data"
   ]
  },
  {
   "cell_type": "code",
   "execution_count": 48,
   "metadata": {},
   "outputs": [],
   "source": [
    "male_train, male_develop, male_test = split_data(male)\n",
    "female_train, female_develop, female_test = split_data(female)\n",
    "mix_train, mix_develop, mix_test = split_data(mix)\n"
   ]
  },
  {
   "cell_type": "code",
   "execution_count": 49,
   "metadata": {},
   "outputs": [],
   "source": [
    "def model(X_train, y_train, X_test, y_test, X_target, y_target):\n",
    "    #X_train, X_test, X_target = normalize(X_train), normalize(X_test), normalize(X_target)\n",
    "    X_train, X_test, X_target = scale(X_train), scale(X_test), scale(X_target)\n",
    "\n",
    "    lr = LinearRegression(n_jobs=-1, normalize=True)\n",
    "    lr.fit(X_train, y_train)\n",
    "    print(\"score of Linear Regression:\", lr.score(X_test, y_test))\n",
    "    y_pred = lr.predict(X_target).round(0).astype(int)\n",
    "    print('Mean Squared Error for Linear Regression:', metrics.mean_squared_error(y_target, y_pred))  \n",
    "    print(\"accuracy score for Linear Regression:\", metrics.accuracy_score(y_target, y_pred))\n",
    "\n",
    "    mlp = MLPClassifier(max_iter=100, solver='sgd', learning_rate='constant', activation='tanh',)\n",
    "    parameter_space = {\n",
    "        'hidden_layer_sizes': [(50,50,50), (50,100,50), (100, 200, 100), (50, 300, 100)],\n",
    "        'alpha': [0.0005, 0.0025, 0.001, 0.05],\n",
    "    }\n",
    "    #MLP with GridSearch\n",
    "    clf = GridSearchCV(mlp, parameter_space, n_jobs=-1, cv=5)\n",
    "    clf.fit(X_train, y_train)\n",
    "    # Best paramete set\n",
    "    print('Best parameters found:\\n', clf.best_params_) \n",
    "    '''\n",
    "    # All results\n",
    "    means = clf.cv_results_['mean_test_score']\n",
    "    stds = clf.cv_results_['std_test_score']\n",
    "    for mean, std, params in zip(means, stds, clf.cv_results_['params']):\n",
    "        print(\"%0.3f (+/-%0.03f) for %r\" % (mean, std * 2, params))\n",
    "    #mlp.fit(X_train, y_train)\n",
    "    '''    \n",
    "    print(\"score of MLP:\", clf.score(X_test, y_test))\n",
    "    y_pred = clf.predict(X_target).round(0).astype(int)\n",
    "    print('Mean Squared Error for MLP:', metrics.mean_squared_error(y_target, y_pred))  \n",
    "    print(\"accuracy score for MLP:\", metrics.accuracy_score(y_target, y_pred))"
   ]
  },
  {
   "cell_type": "code",
   "execution_count": 50,
   "metadata": {},
   "outputs": [
    {
     "output_type": "stream",
     "name": "stdout",
     "text": "SRCONLY: target is female\nscore of Linear Regression: 0.08100271257476022\nMean Squared Error for Linear Regression: 166.31\naccuracy score for Linear Regression: 0.03\nBest parameters found:\n {'alpha': 0.05, 'hidden_layer_sizes': (50, 100, 50)}\nscore of MLP: 0.045\nMean Squared Error for MLP: 227.14\naccuracy score for MLP: 0.03\n"
    }
   ],
   "source": [
    "'''\n",
    "SRCONLY:\n",
    "The SRCONLY baseline ignores the target data and\n",
    "trains a single model, only on the source data.\n",
    "\n",
    "source:male+mix target:female\n",
    "'''\n",
    "print(\"SRCONLY: target is female\")\n",
    "source_train = pd.concat([male_train, mix_train])\n",
    "source_develop = pd.concat([male_develop, mix_develop])\n",
    "target = female_test\n",
    "X_train, y_train = source_train.drop(['Exam Score'], axis=1), source_train['Exam Score']\n",
    "X_test, y_test = source_develop.drop(['Exam Score'], axis=1), source_develop['Exam Score']\n",
    "X_target, y_target = target.drop(['Exam Score'], axis=1), target['Exam Score']\n",
    "\n",
    "model(X_train, y_train, X_test, y_test, X_target, y_target)\n",
    "\n"
   ]
  },
  {
   "cell_type": "code",
   "execution_count": 51,
   "metadata": {},
   "outputs": [
    {
     "output_type": "stream",
     "name": "stdout",
     "text": "TGTONLY: target is female\nscore of Linear Regression: -0.08887180005753792\nMean Squared Error for Linear Regression: 146.89\naccuracy score for Linear Regression: 0.02\nBest parameters found:\n {'alpha': 0.05, 'hidden_layer_sizes': (50, 50, 50)}\nscore of MLP: 0.01\nMean Squared Error for MLP: 208.22\naccuracy score for MLP: 0.12\n"
    }
   ],
   "source": [
    "'''\n",
    "TGTONLY:\n",
    "The TGTONLY baseline trains a single model only\n",
    "on the target data.\n",
    "\n",
    "source:female target:female\n",
    "'''\n",
    "print(\"TGTONLY: target is female\")\n",
    "source_train = female_test \n",
    "source_develop = female_develop\n",
    "target = female_test\n",
    "X_train, y_train = source_train.drop(['Exam Score'], axis=1), source_train['Exam Score']\n",
    "X_test, y_test = source_develop.drop(['Exam Score'], axis=1), source_develop['Exam Score']\n",
    "X_target, y_target = target.drop(['Exam Score'], axis=1), target['Exam Score']\n",
    "\n",
    "model(X_train, y_train, X_test, y_test, X_target, y_target)\n"
   ]
  },
  {
   "cell_type": "code",
   "execution_count": 52,
   "metadata": {},
   "outputs": [
    {
     "output_type": "stream",
     "name": "stdout",
     "text": "ALL: target is female\nscore of Linear Regression: 0.06930068664928313\nMean Squared Error for Linear Regression: 166.1\naccuracy score for Linear Regression: 0.03\nBest parameters found:\n {'alpha': 0.0025, 'hidden_layer_sizes': (100, 200, 100)}\nscore of MLP: 0.023333333333333334\nMean Squared Error for MLP: 276.98\naccuracy score for MLP: 0.03\n"
    }
   ],
   "source": [
    "'''\n",
    "ALL:\n",
    "The ALL baseline simply trains a standard learning\n",
    "algorithm on the union of the two datasets\n",
    "\n",
    "source:male+female+mix target:female\n",
    "'''\n",
    "print(\"ALL: target is female\")\n",
    "source_train = pd.concat([male_train, female_test, mix_train])\n",
    "source_develop = pd.concat([male_develop, female_develop, mix_develop])\n",
    "target = female_test\n",
    "X_train, y_train = source_train.drop(['Exam Score'], axis=1), source_train['Exam Score']\n",
    "X_test, y_test = source_develop.drop(['Exam Score'], axis=1), source_develop['Exam Score']\n",
    "X_target, y_target = target.drop(['Exam Score'], axis=1), target['Exam Score']\n",
    "\n",
    "model(X_train, y_train, X_test, y_test, X_target, y_target)\n",
    "\n"
   ]
  },
  {
   "cell_type": "code",
   "execution_count": 55,
   "metadata": {},
   "outputs": [
    {
     "output_type": "stream",
     "name": "stdout",
     "text": "WEIGHTED: target is female\nscore of Linear Regression: 0.07036395772482773\nMean Squared Error for Linear Regression: 165.71\naccuracy score for Linear Regression: 0.03\nBest parameters found:\n {'alpha': 0.0025, 'hidden_layer_sizes': (50, 300, 100)}\nscore of MLP: 0.03\nMean Squared Error for MLP: 248.9\naccuracy score for MLP: 0.05\n"
    }
   ],
   "source": [
    "'''\n",
    "WEIGHTED:\n",
    "For instance, if N = 10 x \u0002M, we may weight each example from the source domain by 0:1. \n",
    "The next baseline, WEIGHTED, is exactly this approach, with the weight chosen by cross-validation.\n",
    "\n",
    "source:male+female+mix target:female\n",
    "'''\n",
    "print(\"WEIGHTED: target is female\")\n",
    "orginal_n_samples = len(pd.concat([male_train, female_test, mix_train]))\n",
    "source_train = pd.concat([male_train, mix_train, female_test, female_test, female_test]).sample(n=orginal_n_samples, random_state=0)\n",
    "source_develop = pd.concat([male_develop, female_develop, mix_develop])\n",
    "target = female_test\n",
    "\n",
    "X_train, y_train = source_train.drop(['Exam Score'], axis=1), source_train['Exam Score']\n",
    "X_test, y_test = source_develop.drop(['Exam Score'], axis=1), source_develop['Exam Score']\n",
    "X_target, y_target = target.drop(['Exam Score'], axis=1), target['Exam Score']\n",
    "\n",
    "model(X_train, y_train, X_test, y_test, X_target, y_target)\n"
   ]
  },
  {
   "cell_type": "code",
   "execution_count": null,
   "metadata": {},
   "outputs": [],
   "source": [
    "'''\n",
    "PRED:\n",
    "using the output of the source classifier as a feature in the target classifier. \n",
    "Specifically, we first train a SRCONLY model. Then we run the SRCONLY model \n",
    "on the target data (training, development and test). We use the predictions \n",
    "made by the SRCONLY model as additional features and\n",
    "train a second model on the target data, augmented with this new feature.\n",
    "\n",
    "source:male+female+mix target:female\n",
    "'''\n",
    "print(\"PRED: target is female\")\n",
    "\n"
   ]
  },
  {
   "cell_type": "code",
   "execution_count": 54,
   "metadata": {},
   "outputs": [
    {
     "output_type": "execute_result",
     "data": {
      "text/plain": "'\\nhttp://users.umiacs.umd.edu/~hal/docs/daume07easyadapt.odp.pdf\\n\\nhttps://www.aclweb.org/anthology/N18-2076.pdf\\n\\nhttps://slideplayer.com/slide/10770963/\\n\\n\\nhttp://mlreference.com/feedforward-neural-network-sklearn\\n'"
     },
     "metadata": {},
     "execution_count": 54
    }
   ],
   "source": [
    "'''\n",
    "http://users.umiacs.umd.edu/~hal/docs/daume07easyadapt.odp.pdf\n",
    "\n",
    "https://www.aclweb.org/anthology/N18-2076.pdf\n",
    "\n",
    "https://slideplayer.com/slide/10770963/\n",
    "\n",
    "\n",
    "http://mlreference.com/feedforward-neural-network-sklearn\n",
    "'''"
   ]
  },
  {
   "cell_type": "code",
   "execution_count": null,
   "metadata": {},
   "outputs": [],
   "source": []
  }
 ],
 "metadata": {
  "language_info": {
   "codemirror_mode": {
    "name": "ipython",
    "version": 3
   },
   "file_extension": ".py",
   "mimetype": "text/x-python",
   "name": "python",
   "nbconvert_exporter": "python",
   "pygments_lexer": "ipython3",
   "version": "3.7.6-final"
  },
  "orig_nbformat": 2,
  "kernelspec": {
   "name": "python37664bit302d15dce58f496582bcd70ccd75218f",
   "display_name": "Python 3.7.6 64-bit"
  }
 },
 "nbformat": 4,
 "nbformat_minor": 2
}